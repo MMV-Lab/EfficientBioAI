{
 "cells": [
  {
   "cell_type": "code",
   "execution_count": 1,
   "metadata": {},
   "outputs": [],
   "source": [
    "import pynvml"
   ]
  },
  {
   "cell_type": "code",
   "execution_count": 2,
   "metadata": {},
   "outputs": [],
   "source": [
    "pynvml.nvmlInit()"
   ]
  },
  {
   "cell_type": "code",
   "execution_count": 3,
   "metadata": {},
   "outputs": [],
   "source": [
    "deviceCount = pynvml.nvmlDeviceGetCount()"
   ]
  },
  {
   "cell_type": "code",
   "execution_count": 4,
   "metadata": {},
   "outputs": [
    {
     "name": "stdout",
     "output_type": "stream",
     "text": [
      "1\n"
     ]
    }
   ],
   "source": [
    "print(deviceCount)"
   ]
  },
  {
   "cell_type": "code",
   "execution_count": 16,
   "metadata": {},
   "outputs": [],
   "source": [
    "handle = pynvml.nvmlDeviceGetHandleByIndex(0)"
   ]
  },
  {
   "cell_type": "code",
   "execution_count": 6,
   "metadata": {},
   "outputs": [],
   "source": [
    "def to_utf8(str_or_bytes):\n",
    "    if hasattr(str_or_bytes, \"decode\"):\n",
    "        return str_or_bytes.decode(\"utf-8\", errors=\"replace\")\n",
    "\n",
    "    return str_or_bytes"
   ]
  },
  {
   "cell_type": "code",
   "execution_count": 7,
   "metadata": {},
   "outputs": [],
   "source": [
    "def get_gpu_name(handle):\n",
    "    \"\"\"Returns the name of the GPU device\n",
    "    https://docs.nvidia.com/deploy/nvml-api/group__nvmlDeviceQueries.html#group__nvmlDeviceQueries_1ga5361803e044c6fdf3b08523fb6d1481\n",
    "    \"\"\"\n",
    "    name = pynvml.nvmlDeviceGetName(handle)\n",
    "    return to_utf8(name)"
   ]
  },
  {
   "cell_type": "code",
   "execution_count": 8,
   "metadata": {},
   "outputs": [],
   "source": [
    "def get_temperature(handle):\n",
    "    \"\"\"Returns degrees in the Celsius scale\n",
    "    https://docs.nvidia.com/deploy/nvml-api/group__nvmlDeviceQueries.html#group__nvmlDeviceQueries_1g92d1c5182a14dd4be7090e3c1480b121\n",
    "    \"\"\"\n",
    "    return pynvml.nvmlDeviceGetTemperature(handle, pynvml.NVML_TEMPERATURE_GPU)"
   ]
  },
  {
   "cell_type": "code",
   "execution_count": 27,
   "metadata": {},
   "outputs": [
    {
     "ename": "NVMLError_FunctionNotFound",
     "evalue": "Function Not Found",
     "output_type": "error",
     "traceback": [
      "\u001b[0;31m---------------------------------------------------------------------------\u001b[0m",
      "\u001b[0;31mAttributeError\u001b[0m                            Traceback (most recent call last)",
      "File \u001b[0;32m~/miniconda3/envs/yz_deployment/lib/python3.8/site-packages/pynvml/nvml.py:850\u001b[0m, in \u001b[0;36m_nvmlGetFunctionPointer\u001b[0;34m(name)\u001b[0m\n\u001b[1;32m    849\u001b[0m \u001b[39mtry\u001b[39;00m:\n\u001b[0;32m--> 850\u001b[0m     _nvmlGetFunctionPointer_cache[name] \u001b[39m=\u001b[39m \u001b[39mgetattr\u001b[39;49m(nvmlLib, name)\n\u001b[1;32m    851\u001b[0m     \u001b[39mreturn\u001b[39;00m _nvmlGetFunctionPointer_cache[name]\n",
      "File \u001b[0;32m~/miniconda3/envs/yz_deployment/lib/python3.8/ctypes/__init__.py:382\u001b[0m, in \u001b[0;36mCDLL.__getattr__\u001b[0;34m(self, name)\u001b[0m\n\u001b[1;32m    381\u001b[0m     \u001b[39mraise\u001b[39;00m \u001b[39mAttributeError\u001b[39;00m(name)\n\u001b[0;32m--> 382\u001b[0m func \u001b[39m=\u001b[39m \u001b[39mself\u001b[39;49m\u001b[39m.\u001b[39;49m\u001b[39m__getitem__\u001b[39;49m(name)\n\u001b[1;32m    383\u001b[0m \u001b[39msetattr\u001b[39m(\u001b[39mself\u001b[39m, name, func)\n",
      "File \u001b[0;32m~/miniconda3/envs/yz_deployment/lib/python3.8/ctypes/__init__.py:387\u001b[0m, in \u001b[0;36mCDLL.__getitem__\u001b[0;34m(self, name_or_ordinal)\u001b[0m\n\u001b[1;32m    386\u001b[0m \u001b[39mdef\u001b[39;00m \u001b[39m__getitem__\u001b[39m(\u001b[39mself\u001b[39m, name_or_ordinal):\n\u001b[0;32m--> 387\u001b[0m     func \u001b[39m=\u001b[39m \u001b[39mself\u001b[39;49m\u001b[39m.\u001b[39;49m_FuncPtr((name_or_ordinal, \u001b[39mself\u001b[39;49m))\n\u001b[1;32m    388\u001b[0m     \u001b[39mif\u001b[39;00m \u001b[39mnot\u001b[39;00m \u001b[39misinstance\u001b[39m(name_or_ordinal, \u001b[39mint\u001b[39m):\n",
      "\u001b[0;31mAttributeError\u001b[0m: /usr/lib/x86_64-linux-gnu/libnvidia-ml.so.1: undefined symbol: nvmlDeviceGetComputeRunningProcesses_v3",
      "\nDuring handling of the above exception, another exception occurred:\n",
      "\u001b[0;31mNVMLError_FunctionNotFound\u001b[0m                Traceback (most recent call last)",
      "Cell \u001b[0;32mIn[27], line 1\u001b[0m\n\u001b[0;32m----> 1\u001b[0m processes \u001b[39m=\u001b[39m pynvml\u001b[39m.\u001b[39;49mnvmlDeviceGetComputeRunningProcesses(handle)\n",
      "File \u001b[0;32m~/miniconda3/envs/yz_deployment/lib/python3.8/site-packages/pynvml/nvml.py:2608\u001b[0m, in \u001b[0;36mnvmlDeviceGetComputeRunningProcesses\u001b[0;34m(handle)\u001b[0m\n\u001b[1;32m   2607\u001b[0m \u001b[39mdef\u001b[39;00m \u001b[39mnvmlDeviceGetComputeRunningProcesses\u001b[39m(handle):\n\u001b[0;32m-> 2608\u001b[0m     \u001b[39mreturn\u001b[39;00m nvmlDeviceGetComputeRunningProcesses_v3(handle)\n",
      "File \u001b[0;32m~/miniconda3/envs/yz_deployment/lib/python3.8/site-packages/pynvml/nvml.py:2576\u001b[0m, in \u001b[0;36mnvmlDeviceGetComputeRunningProcesses_v3\u001b[0;34m(handle)\u001b[0m\n\u001b[1;32m   2573\u001b[0m \u001b[39mdef\u001b[39;00m \u001b[39mnvmlDeviceGetComputeRunningProcesses_v3\u001b[39m(handle):\n\u001b[1;32m   2574\u001b[0m     \u001b[39m# first call to get the size\u001b[39;00m\n\u001b[1;32m   2575\u001b[0m     c_count \u001b[39m=\u001b[39m c_uint(\u001b[39m0\u001b[39m)\n\u001b[0;32m-> 2576\u001b[0m     fn \u001b[39m=\u001b[39m _nvmlGetFunctionPointer(\u001b[39m\"\u001b[39;49m\u001b[39mnvmlDeviceGetComputeRunningProcesses_v3\u001b[39;49m\u001b[39m\"\u001b[39;49m)\n\u001b[1;32m   2577\u001b[0m     ret \u001b[39m=\u001b[39m fn(handle, byref(c_count), \u001b[39mNone\u001b[39;00m)\n\u001b[1;32m   2579\u001b[0m     \u001b[39mif\u001b[39;00m (ret \u001b[39m==\u001b[39m NVML_SUCCESS):\n\u001b[1;32m   2580\u001b[0m         \u001b[39m# special case, no running processes\u001b[39;00m\n",
      "File \u001b[0;32m~/miniconda3/envs/yz_deployment/lib/python3.8/site-packages/pynvml/nvml.py:853\u001b[0m, in \u001b[0;36m_nvmlGetFunctionPointer\u001b[0;34m(name)\u001b[0m\n\u001b[1;32m    851\u001b[0m         \u001b[39mreturn\u001b[39;00m _nvmlGetFunctionPointer_cache[name]\n\u001b[1;32m    852\u001b[0m     \u001b[39mexcept\u001b[39;00m \u001b[39mAttributeError\u001b[39;00m:\n\u001b[0;32m--> 853\u001b[0m         \u001b[39mraise\u001b[39;00m NVMLError(NVML_ERROR_FUNCTION_NOT_FOUND)\n\u001b[1;32m    854\u001b[0m \u001b[39mfinally\u001b[39;00m:\n\u001b[1;32m    855\u001b[0m     \u001b[39m# lock is always freed\u001b[39;00m\n\u001b[1;32m    856\u001b[0m     libLoadLock\u001b[39m.\u001b[39mrelease()\n",
      "\u001b[0;31mNVMLError_FunctionNotFound\u001b[0m: Function Not Found"
     ]
    }
   ],
   "source": [
    "processes = pynvml.nvmlDeviceGetComputeRunningProcesses(handle)"
   ]
  },
  {
   "cell_type": "code",
   "execution_count": 28,
   "metadata": {},
   "outputs": [
    {
     "ename": "NVMLError_FunctionNotFound",
     "evalue": "Function Not Found",
     "output_type": "error",
     "traceback": [
      "\u001b[0;31m---------------------------------------------------------------------------\u001b[0m",
      "\u001b[0;31mAttributeError\u001b[0m                            Traceback (most recent call last)",
      "File \u001b[0;32m~/miniconda3/envs/yz_deployment/lib/python3.8/site-packages/pynvml/nvml.py:850\u001b[0m, in \u001b[0;36m_nvmlGetFunctionPointer\u001b[0;34m(name)\u001b[0m\n\u001b[1;32m    849\u001b[0m \u001b[39mtry\u001b[39;00m:\n\u001b[0;32m--> 850\u001b[0m     _nvmlGetFunctionPointer_cache[name] \u001b[39m=\u001b[39m \u001b[39mgetattr\u001b[39;49m(nvmlLib, name)\n\u001b[1;32m    851\u001b[0m     \u001b[39mreturn\u001b[39;00m _nvmlGetFunctionPointer_cache[name]\n",
      "File \u001b[0;32m~/miniconda3/envs/yz_deployment/lib/python3.8/ctypes/__init__.py:382\u001b[0m, in \u001b[0;36mCDLL.__getattr__\u001b[0;34m(self, name)\u001b[0m\n\u001b[1;32m    381\u001b[0m     \u001b[39mraise\u001b[39;00m \u001b[39mAttributeError\u001b[39;00m(name)\n\u001b[0;32m--> 382\u001b[0m func \u001b[39m=\u001b[39m \u001b[39mself\u001b[39;49m\u001b[39m.\u001b[39;49m\u001b[39m__getitem__\u001b[39;49m(name)\n\u001b[1;32m    383\u001b[0m \u001b[39msetattr\u001b[39m(\u001b[39mself\u001b[39m, name, func)\n",
      "File \u001b[0;32m~/miniconda3/envs/yz_deployment/lib/python3.8/ctypes/__init__.py:387\u001b[0m, in \u001b[0;36mCDLL.__getitem__\u001b[0;34m(self, name_or_ordinal)\u001b[0m\n\u001b[1;32m    386\u001b[0m \u001b[39mdef\u001b[39;00m \u001b[39m__getitem__\u001b[39m(\u001b[39mself\u001b[39m, name_or_ordinal):\n\u001b[0;32m--> 387\u001b[0m     func \u001b[39m=\u001b[39m \u001b[39mself\u001b[39;49m\u001b[39m.\u001b[39;49m_FuncPtr((name_or_ordinal, \u001b[39mself\u001b[39;49m))\n\u001b[1;32m    388\u001b[0m     \u001b[39mif\u001b[39;00m \u001b[39mnot\u001b[39;00m \u001b[39misinstance\u001b[39m(name_or_ordinal, \u001b[39mint\u001b[39m):\n",
      "\u001b[0;31mAttributeError\u001b[0m: /usr/lib/x86_64-linux-gnu/libnvidia-ml.so.1: undefined symbol: nvmlDeviceGetGraphicsRunningProcesses_v3",
      "\nDuring handling of the above exception, another exception occurred:\n",
      "\u001b[0;31mNVMLError_FunctionNotFound\u001b[0m                Traceback (most recent call last)",
      "Cell \u001b[0;32mIn[28], line 1\u001b[0m\n\u001b[0;32m----> 1\u001b[0m processes \u001b[39m=\u001b[39m pynvml\u001b[39m.\u001b[39;49mnvmlDeviceGetGraphicsRunningProcesses(handle)\n",
      "File \u001b[0;32m~/miniconda3/envs/yz_deployment/lib/python3.8/site-packages/pynvml/nvml.py:2645\u001b[0m, in \u001b[0;36mnvmlDeviceGetGraphicsRunningProcesses\u001b[0;34m(handle)\u001b[0m\n\u001b[1;32m   2644\u001b[0m \u001b[39mdef\u001b[39;00m \u001b[39mnvmlDeviceGetGraphicsRunningProcesses\u001b[39m(handle):\n\u001b[0;32m-> 2645\u001b[0m     \u001b[39mreturn\u001b[39;00m nvmlDeviceGetGraphicsRunningProcesses_v3(handle)\n",
      "File \u001b[0;32m~/miniconda3/envs/yz_deployment/lib/python3.8/site-packages/pynvml/nvml.py:2613\u001b[0m, in \u001b[0;36mnvmlDeviceGetGraphicsRunningProcesses_v3\u001b[0;34m(handle)\u001b[0m\n\u001b[1;32m   2610\u001b[0m \u001b[39mdef\u001b[39;00m \u001b[39mnvmlDeviceGetGraphicsRunningProcesses_v3\u001b[39m(handle):\n\u001b[1;32m   2611\u001b[0m     \u001b[39m# first call to get the size\u001b[39;00m\n\u001b[1;32m   2612\u001b[0m     c_count \u001b[39m=\u001b[39m c_uint(\u001b[39m0\u001b[39m)\n\u001b[0;32m-> 2613\u001b[0m     fn \u001b[39m=\u001b[39m _nvmlGetFunctionPointer(\u001b[39m\"\u001b[39;49m\u001b[39mnvmlDeviceGetGraphicsRunningProcesses_v3\u001b[39;49m\u001b[39m\"\u001b[39;49m)\n\u001b[1;32m   2614\u001b[0m     ret \u001b[39m=\u001b[39m fn(handle, byref(c_count), \u001b[39mNone\u001b[39;00m)\n\u001b[1;32m   2616\u001b[0m     \u001b[39mif\u001b[39;00m (ret \u001b[39m==\u001b[39m NVML_SUCCESS):\n\u001b[1;32m   2617\u001b[0m         \u001b[39m# special case, no running processes\u001b[39;00m\n",
      "File \u001b[0;32m~/miniconda3/envs/yz_deployment/lib/python3.8/site-packages/pynvml/nvml.py:853\u001b[0m, in \u001b[0;36m_nvmlGetFunctionPointer\u001b[0;34m(name)\u001b[0m\n\u001b[1;32m    851\u001b[0m         \u001b[39mreturn\u001b[39;00m _nvmlGetFunctionPointer_cache[name]\n\u001b[1;32m    852\u001b[0m     \u001b[39mexcept\u001b[39;00m \u001b[39mAttributeError\u001b[39;00m:\n\u001b[0;32m--> 853\u001b[0m         \u001b[39mraise\u001b[39;00m NVMLError(NVML_ERROR_FUNCTION_NOT_FOUND)\n\u001b[1;32m    854\u001b[0m \u001b[39mfinally\u001b[39;00m:\n\u001b[1;32m    855\u001b[0m     \u001b[39m# lock is always freed\u001b[39;00m\n\u001b[1;32m    856\u001b[0m     libLoadLock\u001b[39m.\u001b[39mrelease()\n",
      "\u001b[0;31mNVMLError_FunctionNotFound\u001b[0m: Function Not Found"
     ]
    }
   ],
   "source": [
    "processes = pynvml.nvmlDeviceGetGraphicsRunningProcesses(handle)"
   ]
  },
  {
   "cell_type": "code",
   "execution_count": 29,
   "metadata": {},
   "outputs": [
    {
     "data": {
      "text/plain": [
       "11250"
      ]
     },
     "execution_count": 29,
     "metadata": {},
     "output_type": "execute_result"
    }
   ],
   "source": [
    "pynvml.nvmlDeviceGetPowerUsage(handle)"
   ]
  }
 ],
 "metadata": {
  "kernelspec": {
   "display_name": "yz_deployment",
   "language": "python",
   "name": "python3"
  },
  "language_info": {
   "codemirror_mode": {
    "name": "ipython",
    "version": 3
   },
   "file_extension": ".py",
   "mimetype": "text/x-python",
   "name": "python",
   "nbconvert_exporter": "python",
   "pygments_lexer": "ipython3",
   "version": "3.8.0"
  },
  "orig_nbformat": 4,
  "vscode": {
   "interpreter": {
    "hash": "ae4f827bcde0c94ad1c0f2596c29b2a24729759a5f96d744c12fba254054871a"
   }
  }
 },
 "nbformat": 4,
 "nbformat_minor": 2
}
